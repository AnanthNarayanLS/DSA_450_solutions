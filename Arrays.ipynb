{
 "cells": [
  {
   "cell_type": "markdown",
   "id": "9f9548f0",
   "metadata": {},
   "source": [
    "# Reverse the array"
   ]
  },
  {
   "cell_type": "code",
   "execution_count": 11,
   "id": "7b10d69a",
   "metadata": {},
   "outputs": [
    {
     "name": "stdout",
     "output_type": "stream",
     "text": [
      "[5, 4, 3, 2, 1]\n",
      "[5, 4, 3, 2, 1]\n",
      "[1, 2, 3, 4, 5]\n"
     ]
    }
   ],
   "source": [
    "\n",
    "arr = [1,2,3,4,5]\n",
    "\n",
    "# easy method\n",
    "print(arr[::-1])\n",
    "\n",
    "\n",
    "# iterative method\n",
    "def rev(arr):\n",
    "    start,end = 0,len(arr)-1\n",
    "    while start<end:\n",
    "        arr[start],arr[end] = arr[end],arr[start]\n",
    "        start+=1\n",
    "        end-=1\n",
    "    return arr\n",
    "\n",
    "# recursive method\n",
    "def revr(arr,start=0,end=len(arr)-1):\n",
    "    if start>=end:\n",
    "        return\n",
    "    arr[start],arr[end] = arr[end],arr[start]\n",
    "    revr(arr,start+1,end-1)\n",
    "    \n",
    "\n",
    "rev(arr)\n",
    "print(arr)\n",
    "revr(arr)\n",
    "print(arr)\n"
   ]
  },
  {
   "cell_type": "markdown",
   "id": "472c145a",
   "metadata": {},
   "source": [
    "# Find min and max element in an array"
   ]
  },
  {
   "cell_type": "code",
   "execution_count": 1,
   "id": "8cfb71a1",
   "metadata": {},
   "outputs": [
    {
     "data": {
      "text/plain": [
       "(1, 5553)"
      ]
     },
     "execution_count": 1,
     "metadata": {},
     "output_type": "execute_result"
    }
   ],
   "source": [
    "def minmax(arr,n):\n",
    "    if n==1:\n",
    "        mini = maxi = arr[0]\n",
    "        return mini,maxi\n",
    "    elif n==2:\n",
    "        if arr[0]>arr[1]:\n",
    "            mini = arr[1]\n",
    "            maxi = arr[0]\n",
    "        else:\n",
    "            mini = arr[0]\n",
    "            maxi = arr[1]\n",
    "        return mini,maxi\n",
    "    else:\n",
    "        # if array consists of negative elements then you would have \n",
    "        # to 1st set the mini and maxi like this and then proceed \n",
    "        if arr[0]>arr[1]:\n",
    "            mini = arr[1]\n",
    "            maxi = arr[0]\n",
    "        else:\n",
    "            mini = arr[0]\n",
    "            maxi = arr[1]\n",
    "        for i in range(2,n):\n",
    "            if arr[i]>maxi:\n",
    "                maxi = arr[i]\n",
    "            elif arr[i]<mini:\n",
    "                mini = arr[i]\n",
    "        return mini,maxi\n",
    "arr = [1,2,3,22,323,3,32,33,3421,5553]\n",
    "n = len(arr)\n",
    "minmax(arr,n)"
   ]
  },
  {
   "cell_type": "markdown",
   "id": "3239c089",
   "metadata": {},
   "source": [
    "# find kth smallest element"
   ]
  },
  {
   "cell_type": "code",
   "execution_count": 4,
   "id": "8fd53fc2",
   "metadata": {},
   "outputs": [
    {
     "name": "stdout",
     "output_type": "stream",
     "text": [
      "423\n"
     ]
    }
   ],
   "source": [
    "import sys\n",
    "import random\n",
    "sys.setrecursionlimit(10**8)\n",
    "\n",
    "def randomPartition(arr,l,r):\n",
    "    n = r-l+1\n",
    "    pivot = int(random.random()%n)\n",
    "    arr[l+pivot],arr[r] = arr[r],arr[l+pivot]\n",
    "    return partition(arr,l,r)\n",
    "\n",
    "def kthSmallest(arr,l,r,k):\n",
    "    if (k>0 and k<=r-l+1):\n",
    "        pos = randomPartition(arr,l,r)\n",
    "        if (pos-l == k-1):\n",
    "            return arr[pos]\n",
    "        if (pos-l > k-1):\n",
    "            return kthSmallest(arr,l,pos-1,k)\n",
    "        return kthSmallest(arr,pos+1,r,k-pos+l-1)\n",
    "    return 9999999999\n",
    "\n",
    "def partition(arr,l,r):\n",
    "    x = arr[r]\n",
    "    i = l\n",
    "    for j in range(l,r):\n",
    "        if (arr[j] <= x):\n",
    "            arr[i],arr[j] = arr[j],arr[i]\n",
    "            i+=1\n",
    "    arr[i],arr[r] = arr[r],arr[i]\n",
    "    return i\n",
    "\n",
    "arr = [33,22,13,4,22,32,423]\n",
    "res = kthSmallest(arr,0,len(arr)-1,7)\n",
    "print(res)\n",
    "    "
   ]
  },
  {
   "cell_type": "code",
   "execution_count": null,
   "id": "583dfb6b",
   "metadata": {},
   "outputs": [],
   "source": []
  }
 ],
 "metadata": {
  "kernelspec": {
   "display_name": "Python 3 (ipykernel)",
   "language": "python",
   "name": "python3"
  },
  "language_info": {
   "codemirror_mode": {
    "name": "ipython",
    "version": 3
   },
   "file_extension": ".py",
   "mimetype": "text/x-python",
   "name": "python",
   "nbconvert_exporter": "python",
   "pygments_lexer": "ipython3",
   "version": "3.9.13"
  }
 },
 "nbformat": 4,
 "nbformat_minor": 5
}
